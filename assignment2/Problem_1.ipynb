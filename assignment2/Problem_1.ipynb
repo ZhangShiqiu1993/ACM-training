{
 "cells": [
  {
   "cell_type": "markdown",
   "metadata": {},
   "source": [
    "# Problem 1: Language Modeling with RNNs\n",
    "* <b>Learning Objective:</b> In this problem, you are going to implement simple recurrent neural networks to deeply understand how RNNs works.\n",
    "* <b>Provided Code:</b> We provide the skeletons of classes you need to complete. Forward checking and gradient checkings are provided for verifying your implementation as well.\n",
    "* <b>TODOs:</b> you will implement a LSTM and use them it to train a model that can generate text using your own text source (novel, lyrics etc). <b>Also please do not forget to answer to the two inline questions before LSTM.</b>"
   ]
  },
  {
   "cell_type": "code",
   "execution_count": 1,
   "metadata": {
    "collapsed": false
   },
   "outputs": [],
   "source": [
    "from lib.rnn import *\n",
    "from lib.layer_utils import *\n",
    "from lib.grad_check import *\n",
    "from lib.optim import *\n",
    "from lib.train import *\n",
    "import numpy as np\n",
    "import matplotlib.pyplot as plt\n",
    "\n",
    "%matplotlib inline\n",
    "plt.rcParams['figure.figsize'] = (10.0, 8.0) # set default size of plots\n",
    "plt.rcParams['image.interpolation'] = 'nearest'\n",
    "plt.rcParams['image.cmap'] = 'gray'\n",
    "\n",
    "# for auto-reloading external modules\n",
    "# see http://stackoverflow.com/questions/1907993/autoreload-of-modules-in-ipython\n",
    "%load_ext autoreload\n",
    "%autoreload 2"
   ]
  },
  {
   "cell_type": "markdown",
   "metadata": {},
   "source": [
    "# Recurrent Neural Networks\n",
    "We will use recurrent neural network (RNN) language models for text generation. The file `lib/layer_utils.py` contains implementations of different layer types that are needed for recurrent neural networks, and the file `lib/rnn.py` uses these layers to implement an text generation model.\n",
    "\n",
    "We will implement LSTM layers in `lib/layer_utils.py`. As a reference, you are given complete codes for other layers including a vanilla RNN. Let's first look through the vanilla RNN, and other layers you may need for language modeling. The first part doesn't involve any coding. You can simply check the codes and run to make sure everything works as you expect."
   ]
  },
  {
   "cell_type": "markdown",
   "metadata": {},
   "source": [
    "# Vanilla RNN: step forward\n",
    "Open the file `lib/layer_utils.py`. This file implements the forward and backward passes for different types of layers that are commonly used in recurrent neural networks.\n",
    "\n",
    "First check the implementation of the function `step_forward` which implements the forward pass for a single timestep of a vanilla recurrent neural network. We provide this function for you. After doing so run the following code. You should see errors less than 1e-8."
   ]
  },
  {
   "cell_type": "code",
   "execution_count": 2,
   "metadata": {
    "collapsed": false
   },
   "outputs": [
    {
     "name": "stdout",
     "output_type": "stream",
     "text": [
      "next_h error:  6.29242142647e-09\n"
     ]
    }
   ],
   "source": [
    "N, D, H = 3, 10, 4\n",
    "\n",
    "rnn = VanillaRNN(D, H, init_scale=0.02, name=\"rnn_test\")\n",
    "x = np.linspace(-0.4, 0.7, num=N*D).reshape(N, D)\n",
    "prev_h = np.linspace(-0.2, 0.5, num=N*H).reshape(N, H)\n",
    "\n",
    "rnn.params[rnn.wx_name] = np.linspace(-0.1, 0.9, num=D*H).reshape(D, H)\n",
    "rnn.params[rnn.wh_name] = np.linspace(-0.3, 0.7, num=H*H).reshape(H, H)\n",
    "rnn.params[rnn.b_name] = np.linspace(-0.2, 0.4, num=H)\n",
    "\n",
    "next_h, _ = rnn.step_forward(x, prev_h)\n",
    "expected_next_h = np.asarray([\n",
    "  [-0.58172089, -0.50182032, -0.41232771, -0.31410098],\n",
    "  [ 0.66854692,  0.79562378,  0.87755553,  0.92795967],\n",
    "  [ 0.97934501,  0.99144213,  0.99646691,  0.99854353]])\n",
    "\n",
    "print('next_h error: ', rel_error(expected_next_h, next_h))"
   ]
  },
  {
   "cell_type": "markdown",
   "metadata": {},
   "source": [
    "# Vanilla RNN: step backward\n",
    "In the `VanillaRNN` class in the file `lib/layer_utils.py` check the `step_backward` function. After doing so run the following to numerically gradient check the implementation. You should see errors less than `1e-8`."
   ]
  },
  {
   "cell_type": "code",
   "execution_count": 3,
   "metadata": {
    "collapsed": false
   },
   "outputs": [
    {
     "name": "stdout",
     "output_type": "stream",
     "text": [
      "dx error:  5.5197860809e-11\n",
      "dprev_h error:  5.14656053893e-10\n",
      "dWx error:  5.0091246591e-10\n",
      "dWh error:  1.53588846025e-10\n",
      "db error:  2.01718247137e-11\n"
     ]
    }
   ],
   "source": [
    "np.random.seed(599)\n",
    "N, D, H = 4, 5, 6\n",
    "\n",
    "rnn = VanillaRNN(D, H, init_scale=0.02, name=\"rnn_test\")\n",
    "\n",
    "x = np.random.randn(N, D)\n",
    "h = np.random.randn(N, H)\n",
    "Wx = np.random.randn(D, H)\n",
    "Wh = np.random.randn(H, H)\n",
    "b = np.random.randn(H)\n",
    "\n",
    "rnn.params[rnn.wx_name] = Wx\n",
    "rnn.params[rnn.wh_name] = Wh\n",
    "rnn.params[rnn.b_name] = b\n",
    "\n",
    "out, meta = rnn.step_forward(x, h)\n",
    "\n",
    "dnext_h = np.random.randn(*out.shape)\n",
    "\n",
    "dx_num = eval_numerical_gradient_array(lambda x: rnn.step_forward(x, h)[0], x, dnext_h)\n",
    "dprev_h_num = eval_numerical_gradient_array(lambda h: rnn.step_forward(x, h)[0], h, dnext_h)\n",
    "dWx_num = eval_numerical_gradient_array(lambda Wx: rnn.step_forward(x, h)[0], Wx, dnext_h)\n",
    "dWh_num = eval_numerical_gradient_array(lambda Wh: rnn.step_forward(x, h)[0], Wh, dnext_h)\n",
    "db_num = eval_numerical_gradient_array(lambda b: rnn.step_forward(x, h)[0], b, dnext_h)\n",
    "\n",
    "dx, dprev_h, dWx, dWh, db = rnn.step_backward(dnext_h, meta)\n",
    "\n",
    "print('dx error: ', rel_error(dx_num, dx))\n",
    "print('dprev_h error: ', rel_error(dprev_h_num, dprev_h))\n",
    "print('dWx error: ', rel_error(dWx_num, dWx))\n",
    "print('dWh error: ', rel_error(dWh_num, dWh))\n",
    "print('db error: ', rel_error(db_num, db))"
   ]
  },
  {
   "cell_type": "markdown",
   "metadata": {},
   "source": [
    "# Vanilla RNN: forward\n",
    "Now that you have checked the forward and backward passes for a single timestep of a vanilla RNN, you will see how they are combined to implement a RNN that process an entire sequence of data.\n",
    "\n",
    "In the `VanillaRNN` class in the file `lib/layer_utils.py`, check the function `forward`. We provide this function for you. This is implemented using the `step_forward` function that you defined above. After doing so run the following to check the implementation. You should see errors less than `1e-7`."
   ]
  },
  {
   "cell_type": "code",
   "execution_count": 4,
   "metadata": {
    "collapsed": false
   },
   "outputs": [
    {
     "name": "stdout",
     "output_type": "stream",
     "text": [
      "h error:  7.72846618019e-08\n"
     ]
    }
   ],
   "source": [
    "N, T, D, H = 2, 3, 4, 5\n",
    "\n",
    "rnn = VanillaRNN(D, H, init_scale=0.02, name=\"rnn_test\")\n",
    "\n",
    "x = np.linspace(-0.1, 0.3, num=N*T*D).reshape(N, T, D)\n",
    "h0 = np.linspace(-0.3, 0.1, num=N*H).reshape(N, H)\n",
    "Wx = np.linspace(-0.2, 0.4, num=D*H).reshape(D, H)\n",
    "Wh = np.linspace(-0.4, 0.1, num=H*H).reshape(H, H)\n",
    "b = np.linspace(-0.7, 0.1, num=H)\n",
    "\n",
    "rnn.params[rnn.wx_name] = Wx\n",
    "rnn.params[rnn.wh_name] = Wh\n",
    "rnn.params[rnn.b_name] = b\n",
    "\n",
    "h = rnn.forward(x, h0)\n",
    "expected_h = np.asarray([\n",
    "  [\n",
    "    [-0.42070749, -0.27279261, -0.11074945,  0.05740409,  0.22236251],\n",
    "    [-0.39525808, -0.22554661, -0.0409454,   0.14649412,  0.32397316],\n",
    "    [-0.42305111, -0.24223728, -0.04287027,  0.15997045,  0.35014525],\n",
    "  ],\n",
    "  [\n",
    "    [-0.55857474, -0.39065825, -0.19198182,  0.02378408,  0.23735671],\n",
    "    [-0.27150199, -0.07088804,  0.13562939,  0.33099728,  0.50158768],\n",
    "    [-0.51014825, -0.30524429, -0.06755202,  0.17806392,  0.40333043]]])\n",
    "print('h error: ', rel_error(expected_h, h))"
   ]
  },
  {
   "cell_type": "markdown",
   "metadata": {},
   "source": [
    "# Vanilla RNN: backward\n",
    "In the file `lib/layer_utils.py`, check the backward pass for a vanilla RNN in the function `backward` in the `VanillaRNN` class. We provide this function for you. This runs back-propagation over the entire sequence, calling into the `step_backward` function defined above. You should see errors less than 5e-7."
   ]
  },
  {
   "cell_type": "code",
   "execution_count": 5,
   "metadata": {
    "collapsed": false
   },
   "outputs": [
    {
     "name": "stdout",
     "output_type": "stream",
     "text": [
      "dx error:  3.65775500725e-10\n",
      "dh0 error:  1.56896536212e-10\n",
      "dWx error:  4.91677332066e-09\n",
      "dWh error:  5.35335140677e-10\n",
      "db error:  2.45817050453e-10\n"
     ]
    }
   ],
   "source": [
    "np.random.seed(599)\n",
    "\n",
    "N, D, T, H = 2, 3, 10, 5\n",
    "\n",
    "rnn = VanillaRNN(D, H, init_scale=0.02, name=\"rnn_test\")\n",
    "\n",
    "x = np.random.randn(N, T, D)\n",
    "h0 = np.random.randn(N, H)\n",
    "Wx = np.random.randn(D, H)\n",
    "Wh = np.random.randn(H, H)\n",
    "b = np.random.randn(H)\n",
    "\n",
    "rnn.params[rnn.wx_name] = Wx\n",
    "rnn.params[rnn.wh_name] = Wh\n",
    "rnn.params[rnn.b_name] = b\n",
    "\n",
    "out = rnn.forward(x, h0)\n",
    "\n",
    "dout = np.random.randn(*out.shape)\n",
    "\n",
    "dx, dh0 = rnn.backward(dout)\n",
    "\n",
    "dx_num = eval_numerical_gradient_array(lambda x: rnn.forward(x, h0), x, dout)\n",
    "dh0_num = eval_numerical_gradient_array(lambda h0: rnn.forward(x, h0), h0, dout)\n",
    "dWx_num = eval_numerical_gradient_array(lambda Wx: rnn.forward(x, h0), Wx, dout)\n",
    "dWh_num = eval_numerical_gradient_array(lambda Wh: rnn.forward(x, h0), Wh, dout)\n",
    "db_num = eval_numerical_gradient_array(lambda b: rnn.forward(x, h0), b, dout)\n",
    "\n",
    "dWx = rnn.grads[rnn.wx_name]\n",
    "dWh = rnn.grads[rnn.wh_name]\n",
    "db = rnn.grads[rnn.b_name]\n",
    "\n",
    "print('dx error: ', rel_error(dx_num, dx))\n",
    "print('dh0 error: ', rel_error(dh0_num, dh0))\n",
    "print('dWx error: ', rel_error(dWx_num, dWx))\n",
    "print('dWh error: ', rel_error(dWh_num, dWh))\n",
    "print('db error: ', rel_error(db_num, db))"
   ]
  },
  {
   "cell_type": "markdown",
   "metadata": {},
   "source": [
    "# Word embedding: forward\n",
    "In deep learning systems, we commonly represent words using vectors. Each word of the vocabulary will be associated with a vector, and these vectors will be learned jointly with the rest of the system.\n",
    "\n",
    "In the file `lib/layer_utils.py`, check the function `forward` in the `word_embedding` class to convert words (represented by integers) into vectors. We provide this function for you. Run the following to check the implementation. You should see error around `1e-8`."
   ]
  },
  {
   "cell_type": "code",
   "execution_count": 6,
   "metadata": {
    "collapsed": false
   },
   "outputs": [
    {
     "name": "stdout",
     "output_type": "stream",
     "text": [
      "out error:  1.00000000947e-08\n"
     ]
    }
   ],
   "source": [
    "N, T, V, D = 2, 4, 5, 3\n",
    "\n",
    "we = word_embedding(V, D, name=\"we\")\n",
    "\n",
    "x = np.asarray([[0, 3, 1, 2], [2, 1, 0, 3]])\n",
    "W = np.linspace(0, 1, num=V*D).reshape(V, D)\n",
    "\n",
    "we.params[we.w_name] = W\n",
    "\n",
    "out = we.forward(x)\n",
    "expected_out = np.asarray([\n",
    " [[ 0.,          0.07142857,  0.14285714],\n",
    "  [ 0.64285714,  0.71428571,  0.78571429],\n",
    "  [ 0.21428571,  0.28571429,  0.35714286],\n",
    "  [ 0.42857143,  0.5,         0.57142857]],\n",
    " [[ 0.42857143,  0.5,         0.57142857],\n",
    "  [ 0.21428571,  0.28571429,  0.35714286],\n",
    "  [ 0.,          0.07142857,  0.14285714],\n",
    "  [ 0.64285714,  0.71428571,  0.78571429]]])\n",
    "\n",
    "print('out error: ', rel_error(expected_out, out))"
   ]
  },
  {
   "cell_type": "markdown",
   "metadata": {},
   "source": [
    "# Word embedding: backward\n",
    "Check the backward pass for the word embedding function in the function `backward` in the `word_embedding` class. We provide this function for you. After doing so run the following to numerically gradient check the implementation. You should see errors less than `1e-11`."
   ]
  },
  {
   "cell_type": "code",
   "execution_count": 7,
   "metadata": {
    "collapsed": false
   },
   "outputs": [
    {
     "name": "stdout",
     "output_type": "stream",
     "text": [
      "dW error:  3.27593252242e-12\n"
     ]
    }
   ],
   "source": [
    "np.random.seed(599)\n",
    "\n",
    "N, T, V, D = 50, 3, 5, 6\n",
    "\n",
    "we = word_embedding(V, D, name=\"we\")\n",
    "\n",
    "x = np.random.randint(V, size=(N, T))\n",
    "W = np.random.randn(V, D)\n",
    "\n",
    "we.params[we.w_name] = W\n",
    "\n",
    "out = we.forward(x)\n",
    "dout = np.random.randn(*out.shape)\n",
    "we.backward(dout)\n",
    "\n",
    "dW = we.grads[we.w_name]\n",
    "\n",
    "f = lambda W: we.forward(x)\n",
    "dW_num = eval_numerical_gradient_array(f, W, dout)\n",
    "\n",
    "print('dW error: ', rel_error(dW, dW_num))"
   ]
  },
  {
   "cell_type": "markdown",
   "metadata": {},
   "source": [
    "### Inline Question: Why do we want to represent words using word embeddings instead of one hot vector ( https://en.wikipedia.org/wiki/One-hot )? Provide one advantage of word embeddings.\n",
    "\n",
    "#### Ans:  It will save a lot of memory space, when there is a huge amount of word.\n"
   ]
  },
  {
   "cell_type": "markdown",
   "metadata": {},
   "source": [
    "# Temporal Fully Connected layer\n",
    "At every timestep we use an affine function to transform the RNN hidden vector at that timestep into scores for each word in the vocabulary. Because this is very similar to the fully connected layer that you implemented in assignment 1, we have provided this function for you in the `forward` and `backward` functions in the file `lib/layer_util.py`. Run the following to perform numeric gradient checking on the implementation. You should see errors less than 1e-9."
   ]
  },
  {
   "cell_type": "code",
   "execution_count": 8,
   "metadata": {
    "collapsed": false
   },
   "outputs": [
    {
     "name": "stdout",
     "output_type": "stream",
     "text": [
      "dx error:  1.05895915731e-09\n",
      "dw error:  1.16648120456e-10\n",
      "db error:  1.85404883256e-11\n"
     ]
    }
   ],
   "source": [
    "np.random.seed(599)\n",
    "\n",
    "# Gradient check for temporal affine layer\n",
    "N, T, D, M = 2, 3, 4, 5\n",
    "\n",
    "t_fc = temporal_fc(D, M, init_scale=0.02, name='test_t_fc')\n",
    "\n",
    "x = np.random.randn(N, T, D)\n",
    "w = np.random.randn(D, M)\n",
    "b = np.random.randn(M)\n",
    "\n",
    "t_fc.params[t_fc.w_name] = w\n",
    "t_fc.params[t_fc.b_name] = b\n",
    "\n",
    "out = t_fc.forward(x)\n",
    "\n",
    "dout = np.random.randn(*out.shape)\n",
    "\n",
    "dx_num = eval_numerical_gradient_array(lambda x: t_fc.forward(x), x, dout)\n",
    "dw_num = eval_numerical_gradient_array(lambda w: t_fc.forward(x), w, dout)\n",
    "db_num = eval_numerical_gradient_array(lambda b: t_fc.forward(x), b, dout)\n",
    "\n",
    "dx = t_fc.backward(dout)\n",
    "dw = t_fc.grads[t_fc.w_name]\n",
    "db = t_fc.grads[t_fc.b_name]\n",
    "\n",
    "print('dx error: ', rel_error(dx_num, dx))\n",
    "print('dw error: ', rel_error(dw_num, dw))\n",
    "print('db error: ', rel_error(db_num, db))"
   ]
  },
  {
   "cell_type": "markdown",
   "metadata": {},
   "source": [
    "# Temporal Softmax loss\n",
    "In an RNN language model, at every timestep we produce a score for each word in the vocabulary. We know the ground-truth word at each timestep, so we use a softmax loss function to compute loss and gradient at each timestep. We sum the losses over time and average them over the minibatch.\n",
    "\n",
    "We provide this loss function for you; look at the `temporal_softmax_loss` function in the file `lib/layer_utils.py`.\n",
    "\n",
    "Run the following cell to sanity check the loss and perform numeric gradient checking on the function. You should see an error for dx less than 1e-7."
   ]
  },
  {
   "cell_type": "code",
   "execution_count": 9,
   "metadata": {
    "collapsed": false
   },
   "outputs": [
    {
     "name": "stdout",
     "output_type": "stream",
     "text": [
      "2.3026437533\n",
      "23.0261456673\n",
      "2.30211012501\n",
      "dx error:  3.73563553172e-08\n"
     ]
    }
   ],
   "source": [
    "loss_func = temporal_softmax_loss()\n",
    "\n",
    "# Sanity check for temporal softmax loss\n",
    "N, T, V = 100, 1, 10\n",
    "\n",
    "def check_loss(N, T, V, p):\n",
    "    x = 0.001 * np.random.randn(N, T, V)\n",
    "    y = np.random.randint(V, size=(N, T))\n",
    "    mask = np.random.rand(N, T) <= p\n",
    "    print(loss_func.forward(x, y, mask))\n",
    "  \n",
    "check_loss(100, 1, 10, 1.0)   # Should be about 2.3\n",
    "check_loss(100, 10, 10, 1.0)  # Should be about 23\n",
    "check_loss(5000, 10, 10, 0.1) # Should be about 2.3\n",
    "\n",
    "# Gradient check for temporal softmax loss\n",
    "N, T, V = 7, 8, 9\n",
    "\n",
    "x = np.random.randn(N, T, V)\n",
    "y = np.random.randint(V, size=(N, T))\n",
    "mask = (np.random.rand(N, T) > 0.5)\n",
    "\n",
    "loss = loss_func.forward(x, y, mask)\n",
    "dx = loss_func.backward()\n",
    "\n",
    "dx_num = eval_numerical_gradient(lambda x: loss_func.forward(x, y, mask), x, verbose=False)\n",
    "\n",
    "print('dx error: ', rel_error(dx, dx_num))"
   ]
  },
  {
   "cell_type": "markdown",
   "metadata": {},
   "source": [
    "### Inline Question: Using softmax function over vocabulary for word prediction is common in language modeling. However, this technique is not perfect, what do you think are the major disadvantages of it? Pleaes provide one disadvantage of softmax function over vocabulary. \n",
    "\n",
    "#### Ans: for a large size of vocabulary, most of the scores is zero, only a few scores are useful"
   ]
  },
  {
   "cell_type": "markdown",
   "metadata": {},
   "source": [
    "# RNN for language modeling\n",
    "Now that you have the necessary layers, you can combine them to build an language modeling model. Open the file `lib/rnn.py` and look at the `TestRNN` class.\n",
    "\n",
    "Check the forward and backward pass of the model in the `loss` function. For now you only see the implementation of the case where `cell_type='rnn'` for vanialla RNNs; you will implement the LSTM case later. After doing so, run the following to check the forward pass using a small test case; you should see error less than `1e-10`."
   ]
  },
  {
   "cell_type": "code",
   "execution_count": 10,
   "metadata": {
    "collapsed": false,
    "scrolled": false
   },
   "outputs": [
    {
     "name": "stdout",
     "output_type": "stream",
     "text": [
      "loss:  51.0949189134\n",
      "expected loss:  51.0949189134\n",
      "difference:  3.88169496546e-11\n"
     ]
    }
   ],
   "source": [
    "N, D, H = 10, 20, 40\n",
    "V = 4\n",
    "T = 13\n",
    "\n",
    "model = TestRNN(D, H, cell_type='rnn')\n",
    "loss_func = temporal_softmax_loss()\n",
    "\n",
    "# Set all model parameters to fixed values\n",
    "for k, v in model.params.items():\n",
    "    model.params[k] = np.linspace(-1.4, 1.3, num=v.size).reshape(*v.shape)\n",
    "model.assign_params()\n",
    "\n",
    "features = np.linspace(-1.5, 0.3, num=(N * D * T)).reshape(N, T, D)\n",
    "h0 = np.linspace(-1.5, 0.5, num=(N*H)).reshape(N, H)\n",
    "labels = (np.arange(N * T) % V).reshape(N, T)\n",
    "\n",
    "pred = model.forward(features, h0)\n",
    "\n",
    "# You'll need this\n",
    "mask = np.ones((N, T))\n",
    "\n",
    "loss = loss_func.forward(pred, labels, mask)\n",
    "dLoss = loss_func.backward()\n",
    "\n",
    "expected_loss = 51.0949189134\n",
    "\n",
    "print('loss: ', loss)\n",
    "print('expected loss: ', expected_loss)\n",
    "print('difference: ', abs(loss - expected_loss))"
   ]
  },
  {
   "cell_type": "markdown",
   "metadata": {},
   "source": [
    "Run the following cell to perform numeric gradient checking on the `TestRNN` class; you should errors around `1e-7` or less."
   ]
  },
  {
   "cell_type": "code",
   "execution_count": 11,
   "metadata": {
    "collapsed": false
   },
   "outputs": [
    {
     "name": "stdout",
     "output_type": "stream",
     "text": [
      "vanilla_rnn_b relative error: 3.672403e-09\n",
      "vanilla_rnn_wh relative error: 3.659114e-07\n",
      "vanilla_rnn_wx relative error: 1.780015e-09\n"
     ]
    }
   ],
   "source": [
    "np.random.seed(599)\n",
    "\n",
    "batch_size = 2\n",
    "timesteps = 3\n",
    "input_dim = 4\n",
    "hidden_dim = 6\n",
    "label_size = 4\n",
    "\n",
    "labels = np.random.randint(label_size, size=(batch_size, timesteps))\n",
    "features = np.random.randn(batch_size, timesteps, input_dim)\n",
    "h0 = np.random.randn(batch_size, hidden_dim)\n",
    "\n",
    "model = TestRNN(input_dim, hidden_dim, cell_type='rnn')\n",
    "loss_func = temporal_softmax_loss()\n",
    "\n",
    "pred = model.forward(features, h0)\n",
    "\n",
    "# You'll need this\n",
    "mask = np.ones((batch_size, timesteps))\n",
    "\n",
    "loss = loss_func.forward(pred, labels, mask)\n",
    "dLoss = loss_func.backward()\n",
    "\n",
    "dout, dh0 = model.backward(dLoss)\n",
    "\n",
    "grads = model.grads\n",
    "\n",
    "for param_name in sorted(grads):\n",
    "    \n",
    "    f = lambda _: loss_func.forward(model.forward(features, h0), labels, mask)\n",
    "    param_grad_num = eval_numerical_gradient(f, model.params[param_name], verbose=False, h=1e-6)\n",
    "    e = rel_error(param_grad_num, grads[param_name])\n",
    "    print('%s relative error: %e' % (param_name, e))"
   ]
  },
  {
   "cell_type": "markdown",
   "metadata": {},
   "source": [
    "# LSTM\n",
    "Vanilla RNNs can be tough to train on long sequences due to vanishing and exploding gradiants. LSTMs solve this problem by replacing the simple update rule of the vanilla RNN with a gating mechanism as follows.\n",
    "\n",
    "Similar to the vanilla RNN, at each timestep we receive an input $x_t\\in\\mathbb{R}^D$ and the previous hidden state $h_{t-1}\\in\\mathbb{R}^H$; what is different in the LSTM is to maintains an $H$-dimensional *cell state*, so we also receive the previous cell state $c_{t-1}\\in\\mathbb{R}^H$. The learnable parameters of the LSTM are an *input-to-hidden* matrix $W_x\\in\\mathbb{R}^{4H\\times D}$, a *hidden-to-hidden* matrix $W_h\\in\\mathbb{R}^{4H\\times H}$ and a *bias vector* $b\\in\\mathbb{R}^{4H}$.\n",
    "\n",
    "At each timestep we first compute an *activation vector* $a\\in\\mathbb{R}^{4H}$ as $a=W_xx_t + W_hh_{t-1}+b$. We then divide this into four vectors $a_i,a_f,a_o,a_g\\in\\mathbb{R}^H$ where $a_i$ consists of the first $H$ elements of $a$, $a_f$ is the next $H$ elements of $a$, etc. We then compute the *input gate* $g\\in\\mathbb{R}^H$, *forget gate* $f\\in\\mathbb{R}^H$, *output gate* $o\\in\\mathbb{R}^H$ and *block input* $g\\in\\mathbb{R}^H$ as\n",
    "\n",
    "$$\n",
    "\\begin{align*}\n",
    "i = \\sigma(a_i) \\hspace{2pc}\n",
    "f = \\sigma(a_f) \\hspace{2pc}\n",
    "o = \\sigma(a_o) \\hspace{2pc}\n",
    "g = \\tanh(a_g)\n",
    "\\end{align*}\n",
    "$$\n",
    "\n",
    "where $\\sigma$ is the sigmoid function and $\\tanh$ is the hyperbolic tangent, both applied elementwise.\n",
    "\n",
    "Finally we compute the next cell state $c_t$ and next hidden state $h_t$ as\n",
    "\n",
    "$$\n",
    "c_{t} = f\\odot c_{t-1} + i\\odot g \\hspace{4pc}\n",
    "h_t = o\\odot\\tanh(c_t)\n",
    "$$\n",
    "\n",
    "where $\\odot$ is the elementwise product of vectors.\n",
    "\n",
    "In the rest of the notebook we will implement the LSTM update rule and apply it to the text generation task. \n",
    "\n",
    "In the code, we assume that data is stored in batches so that $X_t \\in \\mathbb{R}^{N\\times D}$, and will work with *transposed* versions of the parameters: $W_x \\in \\mathbb{R}^{D \\times 4H}$, $W_h \\in \\mathbb{R}^{H\\times 4H}$ so that activations $A \\in \\mathbb{R}^{N\\times 4H}$ can be computed efficiently as $A = X_t W_x + H_{t-1} W_h$"
   ]
  },
  {
   "cell_type": "markdown",
   "metadata": {},
   "source": [
    "# LSTM: step forward\n",
    "Implement the forward pass for a single timestep of an LSTM in the `step_forward` function in the file `lib/layer_utils.py`. This should be similar to the `step_forward` function that you implemented above, but using the LSTM update rule instead.\n",
    "\n",
    "Once you are done, run the following to perform a simple test of your implementation. You should see errors around `1e-8` or less."
   ]
  },
  {
   "cell_type": "code",
   "execution_count": 12,
   "metadata": {
    "collapsed": false
   },
   "outputs": [
    {
     "name": "stdout",
     "output_type": "stream",
     "text": [
      "next_h error:  5.70541311858e-09\n",
      "next_c error:  5.81431230888e-09\n"
     ]
    }
   ],
   "source": [
    "N, D, H = 3, 4, 5\n",
    "\n",
    "lstm = LSTM(D, H, init_scale=0.02, name='test_lstm')\n",
    "\n",
    "x = np.linspace(-0.4, 1.2, num=N*D).reshape(N, D)\n",
    "prev_h = np.linspace(-0.3, 0.7, num=N*H).reshape(N, H)\n",
    "prev_c = np.linspace(-0.4, 0.9, num=N*H).reshape(N, H)\n",
    "Wx = np.linspace(-2.1, 1.3, num=4*D*H).reshape(D, 4 * H)\n",
    "Wh = np.linspace(-0.7, 2.2, num=4*H*H).reshape(H, 4 * H)\n",
    "b = np.linspace(0.3, 0.7, num=4*H)\n",
    "\n",
    "lstm.params[lstm.wx_name] = Wx\n",
    "lstm.params[lstm.wh_name] = Wh\n",
    "lstm.params[lstm.b_name] = b\n",
    "\n",
    "next_h, next_c, cache = lstm.step_forward(x, prev_h, prev_c)\n",
    "\n",
    "expected_next_h = np.asarray([\n",
    "    [ 0.24635157,  0.28610883,  0.32240467,  0.35525807,  0.38474904],\n",
    "    [ 0.49223563,  0.55611431,  0.61507696,  0.66844003,  0.7159181 ],\n",
    "    [ 0.56735664,  0.66310127,  0.74419266,  0.80889665,  0.858299  ]])\n",
    "expected_next_c = np.asarray([\n",
    "    [ 0.32986176,  0.39145139,  0.451556,    0.51014116,  0.56717407],\n",
    "    [ 0.66382255,  0.76674007,  0.87195994,  0.97902709,  1.08751345],\n",
    "    [ 0.74192008,  0.90592151,  1.07717006,  1.25120233,  1.42395676]])\n",
    "\n",
    "print('next_h error: ', rel_error(expected_next_h, next_h))\n",
    "print('next_c error: ', rel_error(expected_next_c, next_c))"
   ]
  },
  {
   "cell_type": "markdown",
   "metadata": {},
   "source": [
    "# LSTM: step backward\n",
    "Implement the backward pass for a single LSTM timestep in the function `step_backward` in the file `lib/layer_utils.py`. Once you are done, run the following to perform numeric gradient checking on your implementation. You should see errors around `1e-6` or less."
   ]
  },
  {
   "cell_type": "code",
   "execution_count": 13,
   "metadata": {
    "collapsed": false
   },
   "outputs": [
    {
     "name": "stdout",
     "output_type": "stream",
     "text": [
      "dx error:  4.16066350127e-10\n",
      "dh error:  1.92531382762e-10\n",
      "dc error:  3.29289470537e-10\n",
      "dWx error:  1.52854444121e-09\n",
      "dWh error:  3.23971230552e-09\n",
      "db error:  3.66690394798e-10\n"
     ]
    }
   ],
   "source": [
    "np.random.seed(599)\n",
    "\n",
    "N, D, H = 4, 5, 6\n",
    "\n",
    "lstm = LSTM(D, H, init_scale=0.02, name='test_lstm')\n",
    "\n",
    "x = np.random.randn(N, D)\n",
    "prev_h = np.random.randn(N, H)\n",
    "prev_c = np.random.randn(N, H)\n",
    "Wx = np.random.randn(D, 4 * H)\n",
    "Wh = np.random.randn(H, 4 * H)\n",
    "b = np.random.randn(4 * H)\n",
    "\n",
    "lstm.params[lstm.wx_name] = Wx\n",
    "lstm.params[lstm.wh_name] = Wh\n",
    "lstm.params[lstm.b_name] = b\n",
    "\n",
    "next_h, next_c, cache = lstm.step_forward(x, prev_h, prev_c)\n",
    "\n",
    "dnext_h = np.random.randn(*next_h.shape)\n",
    "dnext_c = np.random.randn(*next_c.shape)\n",
    "\n",
    "fx_h = lambda x: lstm.step_forward(x, prev_h, prev_c)[0]\n",
    "fh_h = lambda h: lstm.step_forward(x, prev_h, prev_c)[0]\n",
    "fc_h = lambda c: lstm.step_forward(x, prev_h, prev_c)[0]\n",
    "fWx_h = lambda Wx: lstm.step_forward(x, prev_h, prev_c)[0]\n",
    "fWh_h = lambda Wh: lstm.step_forward(x, prev_h, prev_c)[0]\n",
    "fb_h = lambda b: lstm.step_forward(x, prev_h, prev_c)[0]\n",
    "\n",
    "fx_c = lambda x: lstm.step_forward(x, prev_h, prev_c)[1]\n",
    "fh_c = lambda h: lstm.step_forward(x, prev_h, prev_c)[1]\n",
    "fc_c = lambda c: lstm.step_forward(x, prev_h, prev_c)[1]\n",
    "fWx_c = lambda Wx: lstm.step_forward(x, prev_h, prev_c)[1]\n",
    "fWh_c = lambda Wh: lstm.step_forward(x, prev_h, prev_c)[1]\n",
    "fb_c = lambda b: lstm.step_forward(x, prev_h, prev_c)[1]\n",
    "\n",
    "num_grad = eval_numerical_gradient_array\n",
    "\n",
    "dx_num = num_grad(fx_h, x, dnext_h) + num_grad(fx_c, x, dnext_c)\n",
    "dh_num = num_grad(fh_h, prev_h, dnext_h) + num_grad(fh_c, prev_h, dnext_c)\n",
    "dc_num = num_grad(fc_h, prev_c, dnext_h) + num_grad(fc_c, prev_c, dnext_c)\n",
    "dWx_num = num_grad(fWx_h, Wx, dnext_h) + num_grad(fWx_c, Wx, dnext_c)\n",
    "dWh_num = num_grad(fWh_h, Wh, dnext_h) + num_grad(fWh_c, Wh, dnext_c)\n",
    "db_num = num_grad(fb_h, b, dnext_h) + num_grad(fb_c, b, dnext_c)\n",
    "\n",
    "dx, dh, dc, dWx, dWh, db = lstm.step_backward(dnext_h, dnext_c, cache)\n",
    "\n",
    "print('dx error: ', rel_error(dx_num, dx))\n",
    "print('dh error: ', rel_error(dh_num, dh))\n",
    "print('dc error: ', rel_error(dc_num, dc))\n",
    "print('dWx error: ', rel_error(dWx_num, dWx))\n",
    "print('dWh error: ', rel_error(dWh_num, dWh))\n",
    "print('db error: ', rel_error(db_num, db))"
   ]
  },
  {
   "cell_type": "markdown",
   "metadata": {},
   "source": [
    "# LSTM: forward\n",
    "In the class `lstm` in the file `lib/layer_utils.py`, implement the `forward` function to run an LSTM forward on an entire timeseries of data.\n",
    "\n",
    "When you are done, run the following to check your implementation. You should see an error around `1e-7`."
   ]
  },
  {
   "cell_type": "code",
   "execution_count": 14,
   "metadata": {
    "collapsed": false
   },
   "outputs": [
    {
     "name": "stdout",
     "output_type": "stream",
     "text": [
      "h error:  8.61053745211e-08\n"
     ]
    }
   ],
   "source": [
    "N, D, H, T = 2, 5, 4, 3\n",
    "\n",
    "lstm = LSTM(D, H, init_scale=0.02, name='test_lstm')\n",
    "\n",
    "x = np.linspace(-0.4, 0.6, num=N*T*D).reshape(N, T, D)\n",
    "h0 = np.linspace(-0.4, 0.8, num=N*H).reshape(N, H)\n",
    "Wx = np.linspace(-0.2, 0.9, num=4*D*H).reshape(D, 4 * H)\n",
    "Wh = np.linspace(-0.3, 0.6, num=4*H*H).reshape(H, 4 * H)\n",
    "b = np.linspace(0.2, 0.7, num=4*H)\n",
    "\n",
    "lstm.params[lstm.wx_name] = Wx\n",
    "lstm.params[lstm.wh_name] = Wh\n",
    "lstm.params[lstm.b_name] = b\n",
    "\n",
    "h = lstm.forward(x, h0)\n",
    "\n",
    "expected_h = np.asarray([\n",
    " [[ 0.01764008,  0.01823233,  0.01882671,  0.0194232 ],\n",
    "  [ 0.11287491,  0.12146228,  0.13018446,  0.13902939],\n",
    "  [ 0.31358768,  0.33338627,  0.35304453,  0.37250975]],\n",
    " [[ 0.45767879,  0.4761092,   0.4936887,   0.51041945],\n",
    "  [ 0.6704845,   0.69350089,  0.71486014,  0.7346449 ],\n",
    "  [ 0.81733511,  0.83677871,  0.85403753,  0.86935314]]])\n",
    "\n",
    "print('h error: ', rel_error(expected_h, h))"
   ]
  },
  {
   "cell_type": "markdown",
   "metadata": {},
   "source": [
    "# LSTM: backward\n",
    "Implement the backward pass for an LSTM over an entire timeseries of data in the function `backward` in the `lstm` class in the file `lib/layer_utils.py`. When you are done, run the following to perform numeric gradient checking on your implementation. You should see errors around `1e-7` or less."
   ]
  },
  {
   "cell_type": "code",
   "execution_count": 15,
   "metadata": {
    "collapsed": false
   },
   "outputs": [
    {
     "name": "stdout",
     "output_type": "stream",
     "text": [
      "dx error:  2.72092718273e-09\n",
      "dh0 error:  2.50570862467e-09\n",
      "dWx error:  2.5406116702e-09\n",
      "dWh error:  5.15266451247e-08\n",
      "db error:  3.60215375285e-08\n"
     ]
    }
   ],
   "source": [
    "np.random.seed(599)\n",
    "\n",
    "N, D, T, H = 2, 3, 10, 6\n",
    "\n",
    "lstm = LSTM(D, H, init_scale=0.02, name='test_lstm')\n",
    "\n",
    "x = np.random.randn(N, T, D)\n",
    "h0 = np.random.randn(N, H)\n",
    "Wx = np.random.randn(D, 4 * H)\n",
    "Wh = np.random.randn(H, 4 * H)\n",
    "b = np.random.randn(4 * H)\n",
    "\n",
    "lstm.params[lstm.wx_name] = Wx\n",
    "lstm.params[lstm.wh_name] = Wh\n",
    "lstm.params[lstm.b_name] = b\n",
    "\n",
    "out = lstm.forward(x, h0)\n",
    "\n",
    "dout = np.random.randn(*out.shape)\n",
    "\n",
    "dx, dh0 = lstm.backward(dout)\n",
    "dWx = lstm.grads[lstm.wx_name] \n",
    "dWh = lstm.grads[lstm.wh_name]\n",
    "db = lstm.grads[lstm.b_name]\n",
    "\n",
    "dx_num = eval_numerical_gradient_array(lambda x: lstm.forward(x, h0), x, dout)\n",
    "dh0_num = eval_numerical_gradient_array(lambda h0: lstm.forward(x, h0), h0, dout)\n",
    "dWx_num = eval_numerical_gradient_array(lambda Wx: lstm.forward(x, h0), Wx, dout)\n",
    "dWh_num = eval_numerical_gradient_array(lambda Wh: lstm.forward(x, h0), Wh, dout)\n",
    "db_num = eval_numerical_gradient_array(lambda b: lstm.forward(x, h0), b, dout)\n",
    "\n",
    "print('dx error: ', rel_error(dx_num, dx))\n",
    "print('dh0 error: ', rel_error(dh0_num, dh0))\n",
    "print('dWx error: ', rel_error(dWx_num, dWx))\n",
    "print('dWh error: ', rel_error(dWh_num, dWh))\n",
    "print('db error: ', rel_error(db_num, db))"
   ]
  },
  {
   "cell_type": "markdown",
   "metadata": {},
   "source": [
    "# LSTM model\n",
    "\n",
    "Now that you have implemented an LSTM, update the initialization of the `TestRNN` class in the file `lib/rnn.py` to handle the case where `self.cell_type` is `lstm`. This should require adding only one line of codes.\n",
    "\n",
    "Once you have done so, run the following to check your implementation. You should see a difference of less than `1e-10`."
   ]
  },
  {
   "cell_type": "code",
   "execution_count": 16,
   "metadata": {
    "collapsed": false
   },
   "outputs": [
    {
     "name": "stdout",
     "output_type": "stream",
     "text": [
      "loss:  49.2140256354\n",
      "expected loss:  49.2140256354\n",
      "difference:  4.29238866673e-11\n"
     ]
    }
   ],
   "source": [
    "N, D, H = 10, 20, 40\n",
    "V = 4\n",
    "T = 13\n",
    "\n",
    "model = TestRNN(D, H, cell_type='lstm')\n",
    "loss_func = temporal_softmax_loss()\n",
    "\n",
    "# Set all model parameters to fixed values\n",
    "for k, v in model.params.items():\n",
    "    model.params[k] = np.linspace(-1.4, 1.3, num=v.size).reshape(*v.shape)\n",
    "model.assign_params()\n",
    "\n",
    "features = np.linspace(-1.5, 0.3, num=(N * D * T)).reshape(N, T, D)\n",
    "h0 = np.linspace(-1.5, 0.5, num=(N*H)).reshape(N, H)\n",
    "labels = (np.arange(N * T) % V).reshape(N, T)\n",
    "\n",
    "pred = model.forward(features, h0)\n",
    "\n",
    "# You'll need this\n",
    "mask = np.ones((N, T))\n",
    "\n",
    "loss = loss_func.forward(pred, labels, mask)\n",
    "dLoss = loss_func.backward()\n",
    "\n",
    "expected_loss = 49.2140256354\n",
    "\n",
    "print('loss: ', loss)\n",
    "print('expected loss: ', expected_loss)\n",
    "print('difference: ', abs(loss - expected_loss))"
   ]
  },
  {
   "cell_type": "markdown",
   "metadata": {},
   "source": [
    "# Let's have some fun!!\n",
    "\n",
    "Now you have everything you need for language modeling. You will work on text generation using RNNs from any text source (novel, lyrics). The network is trained to predict what word is coming next given a previous word. Once you train the model, by looping the network, you can keep generating a new text which is mimicing the original text source. Let's first put your source text you want to model in the following text box!\n",
    "\n",
    "**Notice**: in order to run next cell, paste your own text words into the form and hit Enter. Do not use notebook's own 'run cell' since it wouldn't read in anything."
   ]
  },
  {
   "cell_type": "code",
   "execution_count": 17,
   "metadata": {
    "collapsed": false
   },
   "outputs": [
    {
     "name": "stdout",
     "output_type": "stream",
     "text": [
      "set!!\n",
      "Dog goes woof, cat goes meow. Bird goes tweet, and mouse goes squeak. Cow goes moo. Frog goes croak, and the elephant goes toot. Ducks say quack and fish go blub, and the seal goes ow ow ow. But there's one sound that no one knows... What does the fox say?  Ring-ding-ding-ding-dingeringeding! Gering-ding-ding-ding-dingeringeding! Gering-ding-ding-ding-dingeringeding! What the fox say? Wa-pa-pa-pa-pa-pa-pow! Wa-pa-pa-pa-pa-pa-pow! Wa-pa-pa-pa-pa-pa-pow! What the fox say? Hatee-hatee-hatee-ho! Hatee-hatee-hatee-ho! Hatee-hatee-hatee-ho! What the fox say? Joff-tchoff-tchoff-tchoffo-tchoffo-tchoff! Joff-tchoff-tchoff-tchoffo-tchoffo-tchoff! Joff-tchoff-tchoff-tchoffo-tchoffo-tchoff! What the fox say?  Big blue eyes, pointy nose, chasing mice, and digging holes. Tiny paws, up the hill, suddenly you're standing still.  Your fur is red, so beautiful, like an angel in disguise. But if you meet a friendly horse, will you communicate by mo-o-o-o-orse, mo-o-o-o-orse, mo-o-o-o-orse? How will you speak to that h-o-o-orse, h-o-o-orse, h-o-o-orse? What does the fox say?!  Jacha-chacha-chacha-chow! Jacha-chacha-chacha-chow! Jacha-chacha-chacha-chow! What the fox say? Fraka-kaka-kaka-kaka-kow! Fraka-kaka-kaka-kaka-kow! Fraka-kaka-kaka-kaka-kow! What the fox say? A-hee-ahee ha-hee! A-hee-ahee ha-hee! A-hee-ahee ha-hee! What the fox say? A-oo-oo-oo-ooo! Woo-oo-oo-ooo! What does the fox say?!  The secret of the fox, ancient mystery. Somewhere deep in the woods, I know you're hiding. What is your sound? Will we ever know? Will always be a mystery what do you say?  You're my guardian angel hiding in the woods. What is your sound?  A-bubu-duh-bubu-dwee-dum a-bubu-duh-bubu-dwee-dum Will we ever know?  A-bubu-duh-bubu-dwee-dum I want to, I want to, I want to know!  A-bubu-duh-bubu-dwee-dum Bay-buh-day bum-bum bay-dum\n"
     ]
    }
   ],
   "source": [
    "from ipywidgets import widgets, interact\n",
    "from IPython.display import display\n",
    "input_text = widgets.Text()\n",
    "input_text.value = \"Paste your own text words here and hit Enter.\"\n",
    "def f(x):\n",
    "    print('set!!')\n",
    "    print(x.value)\n",
    "input_text.on_submit(f)\n",
    "input_text\n",
    "# copy paste your text source in the box below and hit enter.\n",
    "# If you don't have any preference, \n",
    "# you can copy paste the lyrics from here https://www.azlyrics.com/lyrics/ylvis/thefox.html"
   ]
  },
  {
   "cell_type": "markdown",
   "metadata": {},
   "source": [
    "simply run the following code to construct training dataset<br />"
   ]
  },
  {
   "cell_type": "code",
   "execution_count": 20,
   "metadata": {
    "collapsed": false
   },
   "outputs": [
    {
     "name": "stdout",
     "output_type": "stream",
     "text": [
      "Input text size: 243\n",
      "Input word number: 124\n"
     ]
    }
   ],
   "source": [
    "import re\n",
    "\n",
    "text = re.split(' |\\n',input_text.value.lower()) # all words are converted into lower case\n",
    "outputSize = len(text)\n",
    "word_list = list(set(text))\n",
    "dataSize = len(word_list)\n",
    "output = np.zeros(outputSize)\n",
    "for i in range(0, outputSize):\n",
    "    index = np.where(np.asarray(word_list) == text[i])\n",
    "    output[i] = index[0]\n",
    "data_labels = output.astype(np.int)\n",
    "gt_labels = data_labels[1:]\n",
    "data_labels = data_labels[:-1]\n",
    "\n",
    "print('Input text size: %s' % outputSize)\n",
    "print('Input word number: %s' % dataSize)"
   ]
  },
  {
   "cell_type": "markdown",
   "metadata": {},
   "source": [
    "We defined a LanguageModelRNN class for you to fill in the TODO block in rnn.py.\n",
    "* Here design a recurrent neutral network consisting of a word_embedding layer, recurrent unit, and temporal fully connected layers so that they match the provided dimentions.\n",
    "* Please read the train.py under lib directory carefully and complete the TODO blocks in the train_net function first."
   ]
  },
  {
   "cell_type": "code",
   "execution_count": 34,
   "metadata": {
    "collapsed": false
   },
   "outputs": [
    {
     "name": "stdout",
     "output_type": "stream",
     "text": [
      "(Iteration 1 / 2400) loss: 240.98873845524957\n",
      "bast performance 11.983471074380166%\n",
      "(Epoch 1 / 100) Training Accuracy: 0.11983471074380166\n",
      "bast performance 14.46280991735537%\n",
      "(Epoch 2 / 100) Training Accuracy: 0.1446280991735537\n",
      "(Epoch 3 / 100) Training Accuracy: 0.07024793388429752\n",
      "(Epoch 4 / 100) Training Accuracy: 0.08677685950413223\n",
      "(Iteration 101 / 2400) loss: 207.78378531353627\n",
      "(Epoch 5 / 100) Training Accuracy: 0.1115702479338843\n",
      "(Epoch 6 / 100) Training Accuracy: 0.128099173553719\n",
      "(Epoch 7 / 100) Training Accuracy: 0.128099173553719\n",
      "(Epoch 8 / 100) Training Accuracy: 0.14049586776859505\n",
      "(Iteration 201 / 2400) loss: 190.04302040452728\n",
      "bast performance 15.289256198347106%\n",
      "(Epoch 9 / 100) Training Accuracy: 0.15289256198347106\n",
      "bast performance 15.702479338842975%\n",
      "(Epoch 10 / 100) Training Accuracy: 0.15702479338842976\n",
      "bast performance 19.421487603305785%\n",
      "(Epoch 11 / 100) Training Accuracy: 0.19421487603305784\n",
      "bast performance 21.487603305785125%\n",
      "(Epoch 12 / 100) Training Accuracy: 0.21487603305785125\n",
      "(Iteration 301 / 2400) loss: 156.8023184650173\n",
      "(Epoch 13 / 100) Training Accuracy: 0.21074380165289255\n",
      "bast performance 25.206611570247933%\n",
      "(Epoch 14 / 100) Training Accuracy: 0.25206611570247933\n",
      "bast performance 28.92561983471074%\n",
      "(Epoch 15 / 100) Training Accuracy: 0.2892561983471074\n",
      "bast performance 29.338842975206614%\n",
      "(Epoch 16 / 100) Training Accuracy: 0.29338842975206614\n",
      "(Iteration 401 / 2400) loss: 128.85771847013405\n",
      "bast performance 33.47107438016529%\n",
      "(Epoch 17 / 100) Training Accuracy: 0.3347107438016529\n",
      "bast performance 36.36363636363637%\n",
      "(Epoch 18 / 100) Training Accuracy: 0.36363636363636365\n",
      "bast performance 40.082644628099175%\n",
      "(Epoch 19 / 100) Training Accuracy: 0.40082644628099173\n",
      "bast performance 43.388429752066116%\n",
      "(Epoch 20 / 100) Training Accuracy: 0.43388429752066116\n",
      "(Iteration 501 / 2400) loss: 122.99995791589018\n",
      "bast performance 45.867768595041326%\n",
      "(Epoch 21 / 100) Training Accuracy: 0.45867768595041325\n",
      "bast performance 47.93388429752066%\n",
      "(Epoch 22 / 100) Training Accuracy: 0.4793388429752066\n",
      "bast performance 48.760330578512395%\n",
      "(Epoch 23 / 100) Training Accuracy: 0.48760330578512395\n",
      "bast performance 51.652892561983464%\n",
      "(Epoch 24 / 100) Training Accuracy: 0.5165289256198347\n",
      "bast performance 53.71900826446281%\n",
      "(Epoch 25 / 100) Training Accuracy: 0.5371900826446281\n",
      "(Iteration 601 / 2400) loss: 97.8396867428017\n",
      "bast performance 57.438016528925615%\n",
      "(Epoch 26 / 100) Training Accuracy: 0.5743801652892562\n",
      "bast performance 58.67768595041323%\n",
      "(Epoch 27 / 100) Training Accuracy: 0.5867768595041323\n",
      "bast performance 60.74380165289256%\n",
      "(Epoch 28 / 100) Training Accuracy: 0.6074380165289256\n",
      "bast performance 64.0495867768595%\n",
      "(Epoch 29 / 100) Training Accuracy: 0.640495867768595\n",
      "(Iteration 701 / 2400) loss: 79.20614431679167\n",
      "bast performance 65.70247933884298%\n",
      "(Epoch 30 / 100) Training Accuracy: 0.6570247933884298\n",
      "bast performance 66.94214876033058%\n",
      "(Epoch 31 / 100) Training Accuracy: 0.6694214876033058\n",
      "bast performance 67.35537190082644%\n",
      "(Epoch 32 / 100) Training Accuracy: 0.6735537190082644\n",
      "bast performance 67.76859504132231%\n",
      "(Epoch 33 / 100) Training Accuracy: 0.6776859504132231\n",
      "(Iteration 801 / 2400) loss: 74.97247619416994\n",
      "bast performance 68.59504132231406%\n",
      "(Epoch 34 / 100) Training Accuracy: 0.6859504132231405\n",
      "bast performance 70.66115702479338%\n",
      "(Epoch 35 / 100) Training Accuracy: 0.7066115702479339\n",
      "bast performance 72.31404958677686%\n",
      "(Epoch 36 / 100) Training Accuracy: 0.7231404958677686\n",
      "bast performance 74.79338842975206%\n",
      "(Epoch 37 / 100) Training Accuracy: 0.7479338842975206\n",
      "(Iteration 901 / 2400) loss: 61.837023381993035\n",
      "bast performance 75.6198347107438%\n",
      "(Epoch 38 / 100) Training Accuracy: 0.756198347107438\n",
      "bast performance 76.44628099173553%\n",
      "(Epoch 39 / 100) Training Accuracy: 0.7644628099173554\n",
      "bast performance 77.27272727272727%\n",
      "(Epoch 40 / 100) Training Accuracy: 0.7727272727272727\n",
      "bast performance 78.099173553719%\n",
      "(Epoch 41 / 100) Training Accuracy: 0.78099173553719\n",
      "(Iteration 1001 / 2400) loss: 52.9164670589613\n",
      "bast performance 78.51239669421489%\n",
      "(Epoch 42 / 100) Training Accuracy: 0.7851239669421488\n",
      "bast performance 79.33884297520662%\n",
      "(Epoch 43 / 100) Training Accuracy: 0.7933884297520661\n",
      "bast performance 80.57851239669421%\n",
      "(Epoch 44 / 100) Training Accuracy: 0.8057851239669421\n",
      "bast performance 80.99173553719008%\n",
      "(Epoch 45 / 100) Training Accuracy: 0.8099173553719008\n",
      "(Iteration 1101 / 2400) loss: 44.45397972463655\n",
      "bast performance 81.40495867768594%\n",
      "(Epoch 46 / 100) Training Accuracy: 0.8140495867768595\n",
      "(Epoch 47 / 100) Training Accuracy: 0.8140495867768595\n",
      "(Epoch 48 / 100) Training Accuracy: 0.8140495867768595\n",
      "(Epoch 49 / 100) Training Accuracy: 0.8140495867768595\n",
      "bast performance 81.81818181818183%\n",
      "(Epoch 50 / 100) Training Accuracy: 0.8181818181818182\n",
      "(Iteration 1201 / 2400) loss: 39.71704277817097\n",
      "bast performance 82.23140495867769%\n",
      "(Epoch 51 / 100) Training Accuracy: 0.8223140495867769\n",
      "(Epoch 52 / 100) Training Accuracy: 0.8223140495867769\n",
      "bast performance 82.64462809917356%\n",
      "(Epoch 53 / 100) Training Accuracy: 0.8264462809917356\n",
      "bast performance 83.88429752066115%\n",
      "(Epoch 54 / 100) Training Accuracy: 0.8388429752066116\n",
      "(Iteration 1301 / 2400) loss: 40.77148329618132\n",
      "bast performance 84.29752066115702%\n",
      "(Epoch 55 / 100) Training Accuracy: 0.8429752066115702\n",
      "(Epoch 56 / 100) Training Accuracy: 0.8429752066115702\n",
      "(Epoch 57 / 100) Training Accuracy: 0.8429752066115702\n",
      "bast performance 85.12396694214877%\n",
      "(Epoch 58 / 100) Training Accuracy: 0.8512396694214877\n",
      "(Iteration 1401 / 2400) loss: 33.34355702568236\n",
      "(Epoch 59 / 100) Training Accuracy: 0.8512396694214877\n",
      "(Epoch 60 / 100) Training Accuracy: 0.8512396694214877\n",
      "(Epoch 61 / 100) Training Accuracy: 0.8512396694214877\n",
      "(Epoch 62 / 100) Training Accuracy: 0.8512396694214877\n",
      "(Iteration 1501 / 2400) loss: 30.58363278555992\n",
      "bast performance 85.53719008264463%\n",
      "(Epoch 63 / 100) Training Accuracy: 0.8553719008264463\n",
      "bast performance 86.36363636363636%\n",
      "(Epoch 64 / 100) Training Accuracy: 0.8636363636363636\n",
      "bast performance 86.77685950413223%\n",
      "(Epoch 65 / 100) Training Accuracy: 0.8677685950413223\n",
      "(Epoch 66 / 100) Training Accuracy: 0.8677685950413223\n",
      "(Iteration 1601 / 2400) loss: 27.43994305503292\n",
      "(Epoch 67 / 100) Training Accuracy: 0.8677685950413223\n",
      "(Epoch 68 / 100) Training Accuracy: 0.8677685950413223\n",
      "bast performance 87.19008264462809%\n",
      "(Epoch 69 / 100) Training Accuracy: 0.871900826446281\n",
      "(Epoch 70 / 100) Training Accuracy: 0.871900826446281\n",
      "(Iteration 1701 / 2400) loss: 27.825667054421125\n",
      "(Epoch 71 / 100) Training Accuracy: 0.871900826446281\n",
      "(Epoch 72 / 100) Training Accuracy: 0.871900826446281\n",
      "bast performance 87.60330578512396%\n",
      "(Epoch 73 / 100) Training Accuracy: 0.8760330578512396\n",
      "(Epoch 74 / 100) Training Accuracy: 0.8760330578512396\n",
      "(Epoch 75 / 100) Training Accuracy: 0.8760330578512396\n",
      "(Iteration 1801 / 2400) loss: 26.22117494881271\n",
      "(Epoch 76 / 100) Training Accuracy: 0.8760330578512396\n",
      "(Epoch 77 / 100) Training Accuracy: 0.8760330578512396\n",
      "bast performance 88.01652892561982%\n",
      "(Epoch 78 / 100) Training Accuracy: 0.8801652892561983\n",
      "(Epoch 79 / 100) Training Accuracy: 0.8801652892561983\n",
      "(Iteration 1901 / 2400) loss: 24.059711525121077\n",
      "(Epoch 80 / 100) Training Accuracy: 0.8801652892561983\n",
      "bast performance 88.42975206611571%\n",
      "(Epoch 81 / 100) Training Accuracy: 0.8842975206611571\n",
      "(Epoch 82 / 100) Training Accuracy: 0.8842975206611571\n",
      "(Epoch 83 / 100) Training Accuracy: 0.8842975206611571\n",
      "(Iteration 2001 / 2400) loss: 21.353270390156297\n",
      "(Epoch 84 / 100) Training Accuracy: 0.8842975206611571\n",
      "(Epoch 85 / 100) Training Accuracy: 0.8842975206611571\n",
      "(Epoch 86 / 100) Training Accuracy: 0.8842975206611571\n",
      "bast performance 88.84297520661157%\n",
      "(Epoch 87 / 100) Training Accuracy: 0.8884297520661157\n",
      "(Iteration 2101 / 2400) loss: 24.340113074321035\n",
      "(Epoch 88 / 100) Training Accuracy: 0.8884297520661157\n",
      "(Epoch 89 / 100) Training Accuracy: 0.8884297520661157\n",
      "(Epoch 90 / 100) Training Accuracy: 0.8884297520661157\n",
      "bast performance 89.25619834710744%\n",
      "(Epoch 91 / 100) Training Accuracy: 0.8925619834710744\n",
      "(Iteration 2201 / 2400) loss: 16.81089516134435\n",
      "(Epoch 92 / 100) Training Accuracy: 0.8925619834710744\n",
      "(Epoch 93 / 100) Training Accuracy: 0.8925619834710744\n",
      "(Epoch 94 / 100) Training Accuracy: 0.8925619834710744\n",
      "(Epoch 95 / 100) Training Accuracy: 0.8925619834710744\n",
      "(Iteration 2301 / 2400) loss: 21.799609104539382\n",
      "bast performance 89.6694214876033%\n",
      "(Epoch 96 / 100) Training Accuracy: 0.8966942148760331\n",
      "(Epoch 97 / 100) Training Accuracy: 0.8966942148760331\n",
      "bast performance 90.08264462809917%\n",
      "(Epoch 98 / 100) Training Accuracy: 0.9008264462809917\n",
      "bast performance 90.49586776859503%\n",
      "(Epoch 99 / 100) Training Accuracy: 0.9049586776859504\n",
      "(Epoch 100 / 100) Training Accuracy: 0.9049586776859504\n"
     ]
    }
   ],
   "source": [
    "# you can change the following parameters.\n",
    "D = 10 # input dimention\n",
    "H = 20 # hidden space dimention\n",
    "T = 50 # timesteps\n",
    "N = 10 # batch size\n",
    "max_epoch = 100 # max epoch size\n",
    "\n",
    "loss_func = temporal_softmax_loss()\n",
    "# you can change the cell_type between 'rnn' and 'lstm'.\n",
    "model = LanguageModelRNN(dataSize, D, H, cell_type='lstm')\n",
    "optimizer = Adam(model, 5e-4)\n",
    "\n",
    "data = { 'data_train': data_labels, 'labels_train': gt_labels }\n",
    "\n",
    "results = train_net(data, model, loss_func, optimizer, timesteps=T, batch_size=N, max_epochs=max_epoch, verbose=True)"
   ]
  },
  {
   "cell_type": "markdown",
   "metadata": {},
   "source": [
    "Simply run the following code block to check the loss and accuracy curve."
   ]
  },
  {
   "cell_type": "code",
   "execution_count": 35,
   "metadata": {
    "collapsed": false
   },
   "outputs": [
    {
     "data": {
      "image/png": "[encoded data removed]",
      "text/plain": [
       "<matplotlib.figure.Figure at 0x119492198>"
      ]
     },
     "metadata": {},
     "output_type": "display_data"
    }
   ],
   "source": [
    "opt_params, loss_hist, train_acc_hist = results\n",
    "\n",
    "# Plot the learning curves\n",
    "plt.subplot(2, 1, 1)\n",
    "plt.title('Training loss')\n",
    "loss_hist_ = loss_hist[1::100] # sparse the curve a bit\n",
    "plt.plot(loss_hist_, '-o')\n",
    "plt.xlabel('Iteration')\n",
    "\n",
    "plt.subplot(2, 1, 2)\n",
    "plt.title('Accuracy')\n",
    "plt.plot(train_acc_hist, '-o', label='Training')\n",
    "plt.xlabel('Epoch')\n",
    "plt.legend(loc='lower right')\n",
    "plt.gcf().set_size_inches(15, 12)\n",
    "\n",
    "plt.show()"
   ]
  },
  {
   "cell_type": "markdown",
   "metadata": {},
   "source": [
    "Now you can generate a text using the trained model. You can also start from a specific word in the original text. If you trained your model with \"The Fox\", you can check how well it is modeled by starting from \"dog\", \"cat\", etc."
   ]
  },
  {
   "cell_type": "code",
   "execution_count": 36,
   "metadata": {
    "collapsed": false
   },
   "outputs": [
    {
     "name": "stdout",
     "output_type": "stream",
     "text": [
      "dog goes moo. frog goes croak, and the elephant goes toot. ducks say quack and fish go blub, and the seal goes ow ow ow. but there's one sound that no one knows... what does the fox say?  big blue eyes, pointy nose, chasing mice, and digging holes. tiny paws, up the hill, suddenly you're standing still.  your fur is red, so beautiful, like an angel in disguise. but if you meet a friendly horse, will you communicate by mo-o-o-o-orse, mo-o-o-o-orse, mo-o-o-o-orse? how will you speak to that h-o-o-orse, h-o-o-orse, h-o-o-orse? what does the fox say?  big\n"
     ]
    }
   ],
   "source": [
    "# you can change the generated text length below.\n",
    "text_length = 100\n",
    "\n",
    "idx = 0\n",
    "# you also can start from specific word. \n",
    "# since the words are all converted into lower case, make sure you put lower case below.\n",
    "idx = int(np.where(np.asarray(word_list) == 'dog')[0])\n",
    "\n",
    "# sample from the trained model\n",
    "words = model.sample(idx, text_length-1)\n",
    "\n",
    "# convert indices into words\n",
    "output = [ word_list[i] for i in words]\n",
    "print(' '.join(output))"
   ]
  },
  {
   "cell_type": "markdown",
   "metadata": {},
   "source": [
    "### Inline Question: Play around with different settings to get better understanding of its behavior and describe your observation. Make sure at least you cover the following points:\n",
    "* Vanilla RNN vs LSTM (you can set different time steps and test with longer texts.)\n",
    "* Problems in these approaches (there's no unique answer. just explain your own opinion from experiments.)\n",
    "#### Ans: Both of they can generate well text. Vanilla may have gradient vanish issue, but LSTM performs well."
   ]
  },
  {
   "cell_type": "code",
   "execution_count": null,
   "metadata": {
    "collapsed": true
   },
   "outputs": [],
   "source": []
  }
 ],
 "metadata": {
  "kernelspec": {
   "display_name": "Python 3",
   "language": "python",
   "name": "python3"
  }
 },
 "nbformat": 4,
 "nbformat_minor": 1
}
