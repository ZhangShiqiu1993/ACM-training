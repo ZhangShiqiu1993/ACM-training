{
 "cells": [
  {
   "cell_type": "code",
   "execution_count": 6,
   "metadata": {
    "collapsed": true
   },
   "outputs": [],
   "source": [
    "import cv2 as cv\n",
    "import numpy as np\n",
    "import matplotlib.pyplot as plt\n",
    "from matplotlib.pyplot import imshow\n",
    "from board import *\n",
    "import player\n",
    "from player import *\n",
    "%matplotlib inline"
   ]
  },
  {
   "cell_type": "code",
   "execution_count": 23,
   "metadata": {
    "collapsed": true
   },
   "outputs": [],
   "source": [
    "area_colors = {0: (255, 255, 255), 1: (255, 0, 0), 2:(0, 255, 0), 3:(0, 0, 255),\n",
    "              4: (255, 255, 0), 5: (255, 0, 255), 6: (0, 255, 255)}\n",
    "path_colors = {0: (255, 255, 255), 1: (128, 0, 0), 2:(0, 128, 0), 3:(0, 0, 128),\n",
    "              4: (128, 128, 0), 5: (128, 0, 128), 6: (0, 128, 128)}\n",
    "\n",
    "def show(area, path, players, size):\n",
    "    width = size * 10\n",
    "    img = np.zeros((width, width, 3), np.uint8)\n",
    "    for i in range(size):\n",
    "        for j in range(size):\n",
    "            img = cv.rectangle(img, (j * 10, i * 10), (j * 10 + 9, i * 10 + 9), area_colors[area[i][j]], -1)\n",
    "    for i in range(size):\n",
    "        for j in range(size):\n",
    "            if path[i][j] != 0:\n",
    "                img = cv.rectangle(img, (j * 10, i * 10), (j * 10 + 9, i * 10 + 9), path_colors[path[i][j]], -1)\n",
    "    for val in players.values():\n",
    "        x, y = val.head\n",
    "        img = cv.rectangle(img, (y * 10, x * 10), (y * 10 + 9, x * 10 + 9), (0, 0, 0), 1)\n",
    "    plt.imshow(img)\n",
    "    plt.show()"
   ]
  },
  {
   "cell_type": "code",
   "execution_count": 24,
   "metadata": {
    "collapsed": false
   },
   "outputs": [
    {
     "data": {
      "image/png": "[encoded data removed]",
      "text/plain": [
       "<matplotlib.figure.Figure at 0x11647ea20>"
      ]
     },
     "metadata": {},
     "output_type": "display_data"
    },
    {
     "data": {
      "image/png": "[encoded data removed]",
      "text/plain": [
       "<matplotlib.figure.Figure at 0x116399828>"
      ]
     },
     "metadata": {},
     "output_type": "display_data"
    }
   ],
   "source": [
    "area = [\n",
    "            [2, 2, 2, 0, 0],\n",
    "            [2, 2, 2, 0, 0],\n",
    "            [0, 0, 0, 0, 0],\n",
    "            [0, 0, 1, 1, 1],\n",
    "            [0, 0, 1, 1, 1],\n",
    "        ]\n",
    "path = [\n",
    "            [0, 0, 0, 0, 0],\n",
    "            [0, 0, 0, 0, 0],\n",
    "            [2, 2, 0, 1, 1],\n",
    "            [0, 0, 0, 0, 0],\n",
    "            [0, 0, 0, 0, 0],\n",
    "        ]\n",
    "p1 = Player(id=1, head=(2, 4), direction=player.UP)\n",
    "p2 = Player(id=2, head=(2, 1), direction=player.DOWN)\n",
    "board = Board(area, path, {p1, p2})\n",
    "show(board.areas, board.paths, board.players, 5)\n",
    "board.step()\n",
    "show(board.areas, board.paths, board.players, 5)"
   ]
  },
  {
   "cell_type": "code",
   "execution_count": null,
   "metadata": {
    "collapsed": true
   },
   "outputs": [],
   "source": []
  }
 ],
 "metadata": {
  "kernelspec": {
   "display_name": "Python 3",
   "language": "python",
   "name": "python3"
  },
  "language_info": {
   "codemirror_mode": {
    "name": "ipython",
    "version": 3
   },
   "file_extension": ".py",
   "mimetype": "text/x-python",
   "name": "python",
   "nbconvert_exporter": "python",
   "pygments_lexer": "ipython3",
   "version": "3.6.0"
  }
 },
 "nbformat": 4,
 "nbformat_minor": 0
}
